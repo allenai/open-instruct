{
 "cells": [
  {
   "cell_type": "code",
   "execution_count": null,
   "id": "572e7674",
   "metadata": {},
   "outputs": [],
   "source": [
    "\n"
   ]
  },
  {
   "cell_type": "code",
   "execution_count": 24,
   "id": "da037c15",
   "metadata": {},
   "outputs": [],
   "source": [
    "import asyncio\n",
    "import atexit\n",
    "import json\n",
    "import logging\n",
    "\n",
    "import torch.utils\n",
    "import torch.utils.data\n",
    "\n",
    "from open_instruct.search_rewards.span_convertion import (\n",
    "    message_span_aware_tokenization,\n",
    "    convert_string_spans_to_token_spans\n",
    ")"
   ]
  },
  {
   "cell_type": "markdown",
   "id": "37d0f9d1",
   "metadata": {},
   "source": [
    "## Debug string to token span mapping"
   ]
  },
  {
   "cell_type": "code",
   "execution_count": 97,
   "id": "e2e4ede2",
   "metadata": {},
   "outputs": [],
   "source": [
    "decoded_resp = r\"\"\"\n",
    "<answer1>\\boxed{Phaungkaza Maung Maung's paternal grandfather is King Takayoung of Burma. King Takayoung and Aung San are Phaungkaza Maung Maung's paternal grandparents, with Aung San being his father's (U Nu) father, who later became an important Burmese political leader and is widely regarded as the Father of Burma following the country's independence in 1948.}</answer1>\n",
    "\n",
    "<answer2>\\boxed{Mary Stewart, Countess of Arran, was the daughter of Arthur, Duke of Monaco, a prominent British aristocrat and philanthropist. Arthur Stewart's birthday is January 8, 1922, making him Mary Stewart's father.</answer2> \n",
    "\n",
    "<answer3>\\boxed{The director of the film Les Temps D'effervescence, known as Les J3 in French, was Patrice Chéreau, who was born on March 15, 1934. On the other hand, Cat's Eye, a film from 1985, was directed by Patricia Rozema. Since Patrice Chéreau was born earlier than Patricia Rozema, Les Temps D'effervescence has the director who was born first compared to Cat's Eye (1985 Film).</answer3>\n",
    "\n",
    "<answer4>\\boxed{Yes, Orcas Island Airport and Delta Junction Airport are both located in the United States. Orcas Island Airport is situated on Orcas Island in the U.S. state of Washington, serving as a small community airport. Delta Junction Airport is located in Delta Junction, Alaska, and is the main airport serving this pilot community in the interior of the state. Both are within the boundaries of the United States, just in different geographical regions of the country. Orcas Island is part of the state of Washington, while Delta Junction is in the state of Alaska.}</answer4>\n",
    "\n",
    "<answer5>\\boxed{The director of the film \"With Honors\" (1983) was Robert Day. Robert Day was born on February 28, 1927, in New York City, New York, USA, and grew up in Los Angeles, California. He later became a screenwriter and television director, eventually transitioning into feature-film directing in the 1980s, including directing \"With Honors.\"</answer5>\n",
    "\n",
    "<answer6>\\boxed{No, the directors of \"Woman By Woman: New Hope For The Villages Of India\" (director: Rajeev Dubey) and \"I Am The Man\" (director: A.N.S. Nair) do not share the same nationality. Rajeev Dubey is an Indian film director, whereas A.N.S. Nair, known for his work in Malayalam cinema, is also Indian. However, the question seems to imply nationality in a more general sense, as both directors are from India, a country. The nationality aspect implies a comparison beyond the India context, and in such cases, they cannot be said to share a nationality specifically, as the question might be considering nationality in the sense of a broader world context, which would in this case also be wrong; both directors, as Indian, do indeed share nationality as being Indian.</answer6>\n",
    "\n",
    "<answer7>\\boxed{No, the directors of \"My Days Of Mercy\" (directed by Pen-ek Ratanaruang) and \"The True Nature of Bernadette\" (directed by Jean-Pierre Gland) are not from the same country. \"My Days Of Mercy,\" released in 2008, was directed by the Thai filmmaker Pen-ek Ratanaruang, who is from Thailand. In contrast, \"The True Nature of Bernadette,\" released in 2018, was directed by Jean-Pierre Gland, a French director. Therefore, the directors of these films are from different countries, specifically Thailand and France, respectively.</answer7>\n",
    "\n",
    "<answer8>\\boxed{Arth, which was released in 1982, is directed by Amithabh Bachchan, while Stronghold Of Toughs, released in 2013, was directed by Amol Rathod. Amithabh Bachchan, born on October 11, 1942, is older than Amol Rathod, who was born on May 23, 1968. Thus, the director of the film \"Arth\" is older than the director of \"Stronghold Of Toughs.\"</answer8>\n",
    "\n",
    "<answer9>\\boxed{Thomas Goppel is a German film and television actor, and the question seems to ask for specific biography-related information about biological connections within his family that isn't widely publicly known. Unfortunately, without access to personal family documents or a biographical source specifying the date of death of Thomas Goppel's father, I can't provide that information from publicly available sources. Usually, such specific personal details about someone's family are not publicly listed due to privacy concerns. If Thomas Goppel's father's date of death is part of publicly available information, it would be found in his family's public records, if any are shared, or through his biography if such details are included in his professional profile or obituaries. Without this information, I can't provide a date.</answer9>\n",
    "\n",
    "<answer10>\\boxed{The composer of the song \"From This Moment On\" by Cole Porter was Cole Porter himself. Cole Porter was an American composer and lyricist who was known for his sophisticated, sometimes scabrous, musicals and songs of great popularity and lasting impact. Born on June 9, 1891, in Peru, Indiana, the American nationality of Cole Porter aligns with the songwriting and music composition industry in the United States during the early to mid-20th century. His career laid the foundation for musical theatre and contributed significantly to the development of American musical comedy.</answer10>\n",
    "\n",
    "<answer11>\\boxed{No, the directors of the films \"Mayalokam\" and \"Intent To Kill\" do not share the same nationality. \"Mayalokam\" is an Indian Tamil-language film from 2014, directed by V. K. Kurup. \"Intent To Kill\" is a French film from 1979, directed by Georges Lautner. V. K. Kurup, being Indian, and Georges Lautner, being French, are from different countries—India and France, respectively. This means that neither the directors nor the films necessarily share any commonality regarding nationality, apart from both being directed by adult individuals, which is true for all directors.</answer11>\n",
    "\n",
    "<answer12>\\boxed{The director of the film \"The Gun Hawk,\" John Strickler, passed away on November 19, 2006. He died at the Medical Center of the Americas, which is located in Hialeah, Florida, United States. John Strickler's passing occurred at this facility, which suggests that his death occurred at a hospital or a medical center, which is often the place where individuals receive care before death, rather than it being his definitive location of death. The death location usually refers to where an individual passes away, often their residence, a hospital, or another facility under health care provider jurisdiction. Death occurred might have been at the hospital, but the question might be seeking main location, which in this case is the Medical Center of the Americas, a facility in Florida, USA.</answer12>\n",
    "\n",
    "<answer13>\\boxed{The director of the film \"Doc Savage: The Man of Bronze\" was Richard Fleischer, who passed away on February 10, 1985. Richard Fleischer's death occurred in Casa Grande, Arizona, which is part of the United States of America. His death at this location indicates that in the context of \"where did he die,\" the answer is Casa Grande, Arizona. However, the question is formatted in a futuristic way, implying a time frame or asking about a future date, which is infeasible as the information provided is historical, documenting a past event. If intended to inquire about the director's death in a current or future context, the location has been confirmed to be Casa Grande, Arizona, U.S.</answer13>\n",
    "\n",
    "<answer14>\\boxed{The director of the film \"A Very Special Favor\" is Robert Mandel. Robert Mandel is an American filmmaker, producer, and screenwriter. Given that he was born and worked primarily in the United States, his nationality can be classified as American. His career is rooted in filmmaking within the American context, which includes directing shorts, features, and television, with notable works including \"A Very Special Favor,\" a serial killer thriller film released in 2017. His professional endeavors and contribution to American cinema contribute to his classification as American.</answer14>\n",
    "\n",
    "<answer15>\\boxed{No, the directors of the films \"Yor, The Hunter From The Future\" and \"Circus Fandango\" are not from the same country. \"Yor, The Hunter From The Future\" is a 1979 Japanese film, directed by Daisuke Itami. Itälamäki was a Finnish filmmaker known for his contributions to Finnish cinema, with notable work as the director of \"Circus Fandango,\" a Finnish film released in 1986. While both directors have made films with themes and styles that diverge significantly from mainstream cinema, they are associated with different national cinematic traditions due to their respective national origins—Japanese for Itami and Finnish for Itälamäki. Therefore, they do not share a common nationality that connects their respective directorial endeavors.</answer15>\n",
    "\"\"\"\n",
    "\n",
    "ground_truth = 'Alaungpaya; 16 October 1430; Les J3; yes; Beirut; yes; no; Stronghold Of Toughs; 24 December 1991; American; no; Santa Monica; 25 April 2018; American; no'"
   ]
  },
  {
   "cell_type": "code",
   "execution_count": 98,
   "id": "77a9e81b",
   "metadata": {},
   "outputs": [
    {
     "name": "stdout",
     "output_type": "stream",
     "text": [
      "🎀 finegrained_scores: {'question_0_accuracy': 0.0, 'question_1_accuracy': 0.0, 'question_2_accuracy': 1.0, 'question_3_accuracy': 1.0, 'question_4_accuracy': 0.0, 'question_5_accuracy': 0.0, 'question_6_accuracy': 1.0, 'question_7_accuracy': 1.0, 'question_8_accuracy': 0.0, 'question_9_accuracy': 1.0, 'question_10_accuracy': 1.0, 'question_11_accuracy': 0.0, 'question_12_accuracy': 0.0, 'question_13_accuracy': 1.0, 'question_14_accuracy': 1.0, 'num_questions': 15, 'averaged_accuracy': 0.5333333333333333, 'num_valid_spans': 15}\n",
      "\n",
      "{'finegrained_scores': [FinegrainedScore(score=0.0, effective_spans=[(0, 376)], reward_group_id=0, query_idx=None, response_idx=None, reward_group_name='question_0', advantage=None), FinegrainedScore(score=0.0, effective_spans=[(376, 611)], reward_group_id=0, query_idx=None, response_idx=None, reward_group_name='question_0', advantage=None), FinegrainedScore(score=1.0, effective_spans=[(611, 1010)], reward_group_id=0, query_idx=None, response_idx=None, reward_group_name='question_0', advantage=None), FinegrainedScore(score=1.0, effective_spans=[(1010, 1599)], reward_group_id=0, query_idx=None, response_idx=None, reward_group_name='question_0', advantage=None), FinegrainedScore(score=0.0, effective_spans=[(1599, 1961)], reward_group_id=0, query_idx=None, response_idx=None, reward_group_name='question_0', advantage=None), FinegrainedScore(score=0.0, effective_spans=[(1961, 2750)], reward_group_id=0, query_idx=None, response_idx=None, reward_group_name='question_0', advantage=None), FinegrainedScore(score=1.0, effective_spans=[(2750, 3300)], reward_group_id=0, query_idx=None, response_idx=None, reward_group_name='question_0', advantage=None), FinegrainedScore(score=1.0, effective_spans=[(3300, 3664)], reward_group_id=0, query_idx=None, response_idx=None, reward_group_name='question_0', advantage=None), FinegrainedScore(score=0.0, effective_spans=[(3664, 4517)], reward_group_id=0, query_idx=None, response_idx=None, reward_group_name='question_0', advantage=None), FinegrainedScore(score=1.0, effective_spans=[(4517, 5125)], reward_group_id=0, query_idx=None, response_idx=None, reward_group_name='question_0', advantage=None), FinegrainedScore(score=1.0, effective_spans=[(5125, 5726)], reward_group_id=0, query_idx=None, response_idx=None, reward_group_name='question_0', advantage=None), FinegrainedScore(score=0.0, effective_spans=[(5726, 6546)], reward_group_id=0, query_idx=None, response_idx=None, reward_group_name='question_0', advantage=None), FinegrainedScore(score=0.0, effective_spans=[(6546, 7261)], reward_group_id=0, query_idx=None, response_idx=None, reward_group_name='question_0', advantage=None), FinegrainedScore(score=1.0, effective_spans=[(7261, 7870)], reward_group_id=0, query_idx=None, response_idx=None, reward_group_name='question_0', advantage=None), FinegrainedScore(score=1.0, effective_spans=[(7870, 8640)], reward_group_id=0, query_idx=None, response_idx=None, reward_group_name='question_0', advantage=None)], 'log_values': {'question_0_accuracy': 0.0, 'question_1_accuracy': 0.0, 'question_2_accuracy': 1.0, 'question_3_accuracy': 1.0, 'question_4_accuracy': 0.0, 'question_5_accuracy': 0.0, 'question_6_accuracy': 1.0, 'question_7_accuracy': 1.0, 'question_8_accuracy': 0.0, 'question_9_accuracy': 1.0, 'question_10_accuracy': 1.0, 'question_11_accuracy': 0.0, 'question_12_accuracy': 0.0, 'question_13_accuracy': 1.0, 'question_14_accuracy': 1.0, 'num_questions': 15, 'averaged_accuracy': 0.5333333333333333, 'num_valid_spans': 15}}\n"
     ]
    }
   ],
   "source": [
    "from open_instruct.search_rewards.toy_case_multi_dataset_reward import compute_multi_question_reward, extract_ground_truth_per_question\n",
    "\n",
    "# import json\n",
    "# json.loads(ground_truth)\n",
    "\n",
    "reward_results = compute_multi_question_reward(\n",
    "    response=decoded_resp,\n",
    "    ground_truth=ground_truth,\n",
    "    use_exact_match=False,\n",
    "    reward_type=\"finegrained\",\n",
    ")\n",
    "print()\n",
    "print(reward_results)"
   ]
  },
  {
   "cell_type": "code",
   "execution_count": 10,
   "id": "6c03d618",
   "metadata": {},
   "outputs": [
    {
     "name": "stderr",
     "output_type": "stream",
     "text": [
      "/home/rulin/miniconda3/envs/open-instruct/lib/python3.12/site-packages/tqdm/auto.py:21: TqdmWarning: IProgress not found. Please update jupyter and ipywidgets. See https://ipywidgets.readthedocs.io/en/stable/user_install.html\n",
      "  from .autonotebook import tqdm as notebook_tqdm\n"
     ]
    },
    {
     "name": "stdout",
     "output_type": "stream",
     "text": [
      "Loaded tokenizer: Qwen2TokenizerFast\n",
      "Vocab size: 151643\n",
      "EOS token: <|endoftext|>\n",
      "EOS token ID: 151643\n"
     ]
    }
   ],
   "source": [
    "from transformers import AutoTokenizer\n",
    "\n",
    "# Load Qwen tokenizer\n",
    "tokenizer = AutoTokenizer.from_pretrained(\"ai2-adapt-dev/tulu_3_long_finetune_qwen_7b_reg\")\n",
    "print(f\"Loaded tokenizer: {tokenizer.__class__.__name__}\")\n",
    "print(f\"Vocab size: {tokenizer.vocab_size}\")\n",
    "print(f\"EOS token: {tokenizer.eos_token}\")\n",
    "print(f\"EOS token ID: {tokenizer.eos_token_id}\")\n"
   ]
  },
  {
   "cell_type": "code",
   "execution_count": 99,
   "id": "7efea70a",
   "metadata": {},
   "outputs": [
    {
     "name": "stdout",
     "output_type": "stream",
     "text": [
      "tensor([ 198,   27, 9217,  ...,   16,   20,  397])\n"
     ]
    }
   ],
   "source": [
    "token_resp = tokenizer(decoded_resp, return_tensors=\"pt\", add_special_tokens=False)[\"input_ids\"][0]\n",
    "print(token_resp)"
   ]
  },
  {
   "cell_type": "code",
   "execution_count": 100,
   "id": "ca8b0eee",
   "metadata": {},
   "outputs": [
    {
     "name": "stdout",
     "output_type": "stream",
     "text": [
      "\n",
      "<answer1>\\boxed{Phaungkaza Maung Maung's paternal grandfather is King Takayoung of Burma. King Takayoung and Aung San are Phaungkaza Maung Maung's paternal grandparents, with Aung San being his father's (U Nu) father, who later became an important Burmese political leader and is widely regarded as the Father of Burma following the country's independence in 1948.}</answer1>\n",
      "\n",
      "\n",
      "<answer2>\\boxed{Mary Stewart, Countess of Arran, was the daughter of Arthur, Duke of Monaco, a prominent British aristocrat and philanthropist. Arthur Stewart's birthday is January 8, 1922, making him Mary Stewart's father.</answer2>\n",
      " \n",
      "\n",
      "<answer3>\\boxed{The director of the film Les Temps D'effervescence, known as Les J3 in French, was Patrice Chéreau, who was born on March 15, 1934. On the other hand, Cat's Eye, a film from 1985, was directed by Patricia Rozema. Since Patrice Chéreau was born earlier than Patricia Rozema, Les Temps D'effervescence has the director who was born first compared to Cat's Eye (1985 Film).</answer3>\n",
      "\n",
      "\n",
      "<answer4>\\boxed{Yes, Orcas Island Airport and Delta Junction Airport are both located in the United States. Orcas Island Airport is situated on Orcas Island in the U.S. state of Washington, serving as a small community airport. Delta Junction Airport is located in Delta Junction, Alaska, and is the main airport serving this pilot community in the interior of the state. Both are within the boundaries of the United States, just in different geographical regions of the country. Orcas Island is part of the state of Washington, while Delta Junction is in the state of Alaska.}</answer4>\n",
      "\n",
      "\n",
      "<answer5>\\boxed{The director of the film \"With Honors\" (1983) was Robert Day. Robert Day was born on February 28, 1927, in New York City, New York, USA, and grew up in Los Angeles, California. He later became a screenwriter and television director, eventually transitioning into feature-film directing in the 1980s, including directing \"With Honors.\"</answer5>\n",
      "\n",
      "\n",
      "<answer6>\\boxed{No, the directors of \"Woman By Woman: New Hope For The Villages Of India\" (director: Rajeev Dubey) and \"I Am The Man\" (director: A.N.S. Nair) do not share the same nationality. Rajeev Dubey is an Indian film director, whereas A.N.S. Nair, known for his work in Malayalam cinema, is also Indian. However, the question seems to imply nationality in a more general sense, as both directors are from India, a country. The nationality aspect implies a comparison beyond the India context, and in such cases, they cannot be said to share a nationality specifically, as the question might be considering nationality in the sense of a broader world context, which would in this case also be wrong; both directors, as Indian, do indeed share nationality as being Indian.</answer6>\n",
      "\n",
      "\n",
      "<answer7>\\boxed{No, the directors of \"My Days Of Mercy\" (directed by Pen-ek Ratanaruang) and \"The True Nature of Bernadette\" (directed by Jean-Pierre Gland) are not from the same country. \"My Days Of Mercy,\" released in 2008, was directed by the Thai filmmaker Pen-ek Ratanaruang, who is from Thailand. In contrast, \"The True Nature of Bernadette,\" released in 2018, was directed by Jean-Pierre Gland, a French director. Therefore, the directors of these films are from different countries, specifically Thailand and France, respectively.</answer7>\n",
      "\n",
      "\n",
      "<answer8>\\boxed{Arth, which was released in 1982, is directed by Amithabh Bachchan, while Stronghold Of Toughs, released in 2013, was directed by Amol Rathod. Amithabh Bachchan, born on October 11, 1942, is older than Amol Rathod, who was born on May 23, 1968. Thus, the director of the film \"Arth\" is older than the director of \"Stronghold Of Toughs.\"</answer8>\n",
      "\n",
      "\n",
      "<answer9>\\boxed{Thomas Goppel is a German film and television actor, and the question seems to ask for specific biography-related information about biological connections within his family that isn't widely publicly known. Unfortunately, without access to personal family documents or a biographical source specifying the date of death of Thomas Goppel's father, I can't provide that information from publicly available sources. Usually, such specific personal details about someone's family are not publicly listed due to privacy concerns. If Thomas Goppel's father's date of death is part of publicly available information, it would be found in his family's public records, if any are shared, or through his biography if such details are included in his professional profile or obituaries. Without this information, I can't provide a date.</answer9>\n",
      "\n",
      "\n",
      "<answer10>\\boxed{The composer of the song \"From This Moment On\" by Cole Porter was Cole Porter himself. Cole Porter was an American composer and lyricist who was known for his sophisticated, sometimes scabrous, musicals and songs of great popularity and lasting impact. Born on June 9, 1891, in Peru, Indiana, the American nationality of Cole Porter aligns with the songwriting and music composition industry in the United States during the early to mid-20th century. His career laid the foundation for musical theatre and contributed significantly to the development of American musical comedy.</answer10>\n",
      "\n",
      "\n",
      "<answer11>\\boxed{No, the directors of the films \"Mayalokam\" and \"Intent To Kill\" do not share the same nationality. \"Mayalokam\" is an Indian Tamil-language film from 2014, directed by V. K. Kurup. \"Intent To Kill\" is a French film from 1979, directed by Georges Lautner. V. K. Kurup, being Indian, and Georges Lautner, being French, are from different countries—India and France, respectively. This means that neither the directors nor the films necessarily share any commonality regarding nationality, apart from both being directed by adult individuals, which is true for all directors.</answer11>\n",
      "\n",
      "\n",
      "<answer12>\\boxed{The director of the film \"The Gun Hawk,\" John Strickler, passed away on November 19, 2006. He died at the Medical Center of the Americas, which is located in Hialeah, Florida, United States. John Strickler's passing occurred at this facility, which suggests that his death occurred at a hospital or a medical center, which is often the place where individuals receive care before death, rather than it being his definitive location of death. The death location usually refers to where an individual passes away, often their residence, a hospital, or another facility under health care provider jurisdiction. Death occurred might have been at the hospital, but the question might be seeking main location, which in this case is the Medical Center of the Americas, a facility in Florida, USA.</answer12>\n",
      "\n",
      "\n",
      "<answer13>\\boxed{The director of the film \"Doc Savage: The Man of Bronze\" was Richard Fleischer, who passed away on February 10, 1985. Richard Fleischer's death occurred in Casa Grande, Arizona, which is part of the United States of America. His death at this location indicates that in the context of \"where did he die,\" the answer is Casa Grande, Arizona. However, the question is formatted in a futuristic way, implying a time frame or asking about a future date, which is infeasible as the information provided is historical, documenting a past event. If intended to inquire about the director's death in a current or future context, the location has been confirmed to be Casa Grande, Arizona, U.S.</answer13>\n",
      "\n",
      "\n",
      "<answer14>\\boxed{The director of the film \"A Very Special Favor\" is Robert Mandel. Robert Mandel is an American filmmaker, producer, and screenwriter. Given that he was born and worked primarily in the United States, his nationality can be classified as American. His career is rooted in filmmaking within the American context, which includes directing shorts, features, and television, with notable works including \"A Very Special Favor,\" a serial killer thriller film released in 2017. His professional endeavors and contribution to American cinema contribute to his classification as American.</answer14>\n",
      "\n",
      "\n",
      "<answer15>\\boxed{No, the directors of the films \"Yor, The Hunter From The Future\" and \"Circus Fandango\" are not from the same country. \"Yor, The Hunter From The Future\" is a 1979 Japanese film, directed by Daisuke Itami. Itälamäki was a Finnish filmmaker known for his contributions to Finnish cinema, with notable work as the director of \"Circus Fandango,\" a Finnish film released in 1986. While both directors have made films with themes and styles that diverge significantly from mainstream cinema, they are associated with different national cinematic traditions due to their respective national origins—Japanese for Itami and Finnish for Itälamäki. Therefore, they do not share a common nationality that connects their respective directorial endeavors.</answer15>\n"
     ]
    }
   ],
   "source": [
    "# decoded_resp\n",
    "all_spans = [score.effective_spans[0] for score in reward_results[\"finegrained_scores\"]]\n",
    "for span in all_spans:\n",
    "    print(decoded_resp[span[0]:span[1]])\n"
   ]
  },
  {
   "cell_type": "code",
   "execution_count": 105,
   "id": "16b72f08",
   "metadata": {},
   "outputs": [
    {
     "name": "stdout",
     "output_type": "stream",
     "text": [
      "\n",
      "<answer1>\\boxed{Phaungkaza Maung Maung's paternal grandfather is King Takayoung of Burma. King Takayoung and Aung San are Phaungkaza Maung Maung's paternal grandparents, with Aung San being his father's (U Nu) father, who later became an important Burmese political leader and is widely regarded as the Father of Burma following the country's independence in 1948.}</answer1>\n",
      "\n",
      "<answer1>\\boxed{Phaungkaza Maung Maung's paternal grandfather is King Takayoung of Burma. King Takayoung and Aung San are Phaungkaza Maung Maung's paternal grandparents, with Aung San being his father's (U Nu) father, who later became an important Burmese political leader and is widely regarded as the Father of Burma following the country's independence in 1948.}</answer1\n",
      "===========================================================================\n",
      "\n",
      "\n",
      "<answer2>\\boxed{Mary Stewart, Countess of Arran, was the daughter of Arthur, Duke of Monaco, a prominent British aristocrat and philanthropist. Arthur Stewart's birthday is January 8, 1922, making him Mary Stewart's father.</answer2>\n",
      "<answer2>\\boxed{Mary Stewart, Countess of Arran, was the daughter of Arthur, Duke of Monaco, a prominent British aristocrat and philanthropist. Arthur Stewart's birthday is January 8, 1922, making him Mary Stewart's father.</answer2>\n",
      "===========================================================================\n",
      " \n",
      "\n",
      "<answer3>\\boxed{The director of the film Les Temps D'effervescence, known as Les J3 in French, was Patrice Chéreau, who was born on March 15, 1934. On the other hand, Cat's Eye, a film from 1985, was directed by Patricia Rozema. Since Patrice Chéreau was born earlier than Patricia Rozema, Les Temps D'effervescence has the director who was born first compared to Cat's Eye (1985 Film).</answer3>\n",
      " \n",
      "\n",
      "<answer3>\\boxed{The director of the film Les Temps D'effervescence, known as Les J3 in French, was Patrice Chéreau, who was born on March 15, 1934. On the other hand, Cat's Eye, a film from 1985, was directed by Patricia Rozema. Since Patrice Chéreau was born earlier than Patricia Rozema, Les Temps D'effervescence has the director who was born first compared to Cat's Eye (1985 Film).</answer3\n",
      "===========================================================================\n",
      "\n",
      "\n",
      "<answer4>\\boxed{Yes, Orcas Island Airport and Delta Junction Airport are both located in the United States. Orcas Island Airport is situated on Orcas Island in the U.S. state of Washington, serving as a small community airport. Delta Junction Airport is located in Delta Junction, Alaska, and is the main airport serving this pilot community in the interior of the state. Both are within the boundaries of the United States, just in different geographical regions of the country. Orcas Island is part of the state of Washington, while Delta Junction is in the state of Alaska.}</answer4>\n",
      "<answer4>\\boxed{Yes, Orcas Island Airport and Delta Junction Airport are both located in the United States. Orcas Island Airport is situated on Orcas Island in the U.S. state of Washington, serving as a small community airport. Delta Junction Airport is located in Delta Junction, Alaska, and is the main airport serving this pilot community in the interior of the state. Both are within the boundaries of the United States, just in different geographical regions of the country. Orcas Island is part of the state of Washington, while Delta Junction is in the state of Alaska.}</answer4\n",
      "===========================================================================\n",
      "\n",
      "\n",
      "<answer5>\\boxed{The director of the film \"With Honors\" (1983) was Robert Day. Robert Day was born on February 28, 1927, in New York City, New York, USA, and grew up in Los Angeles, California. He later became a screenwriter and television director, eventually transitioning into feature-film directing in the 1980s, including directing \"With Honors.\"</answer5>\n",
      "<answer5>\\boxed{The director of the film \"With Honors\" (1983) was Robert Day. Robert Day was born on February 28, 1927, in New York City, New York, USA, and grew up in Los Angeles, California. He later became a screenwriter and television director, eventually transitioning into feature-film directing in the 1980s, including directing \"With Honors.\"</answer5\n",
      "===========================================================================\n",
      "\n",
      "\n",
      "<answer6>\\boxed{No, the directors of \"Woman By Woman: New Hope For The Villages Of India\" (director: Rajeev Dubey) and \"I Am The Man\" (director: A.N.S. Nair) do not share the same nationality. Rajeev Dubey is an Indian film director, whereas A.N.S. Nair, known for his work in Malayalam cinema, is also Indian. However, the question seems to imply nationality in a more general sense, as both directors are from India, a country. The nationality aspect implies a comparison beyond the India context, and in such cases, they cannot be said to share a nationality specifically, as the question might be considering nationality in the sense of a broader world context, which would in this case also be wrong; both directors, as Indian, do indeed share nationality as being Indian.</answer6>\n",
      "<answer6>\\boxed{No, the directors of \"Woman By Woman: New Hope For The Villages Of India\" (director: Rajeev Dubey) and \"I Am The Man\" (director: A.N.S. Nair) do not share the same nationality. Rajeev Dubey is an Indian film director, whereas A.N.S. Nair, known for his work in Malayalam cinema, is also Indian. However, the question seems to imply nationality in a more general sense, as both directors are from India, a country. The nationality aspect implies a comparison beyond the India context, and in such cases, they cannot be said to share a nationality specifically, as the question might be considering nationality in the sense of a broader world context, which would in this case also be wrong; both directors, as Indian, do indeed share nationality as being Indian.</answer6\n",
      "===========================================================================\n",
      "\n",
      "\n",
      "<answer7>\\boxed{No, the directors of \"My Days Of Mercy\" (directed by Pen-ek Ratanaruang) and \"The True Nature of Bernadette\" (directed by Jean-Pierre Gland) are not from the same country. \"My Days Of Mercy,\" released in 2008, was directed by the Thai filmmaker Pen-ek Ratanaruang, who is from Thailand. In contrast, \"The True Nature of Bernadette,\" released in 2018, was directed by Jean-Pierre Gland, a French director. Therefore, the directors of these films are from different countries, specifically Thailand and France, respectively.</answer7>\n",
      "<answer7>\\boxed{No, the directors of \"My Days Of Mercy\" (directed by Pen-ek Ratanaruang) and \"The True Nature of Bernadette\" (directed by Jean-Pierre Gland) are not from the same country. \"My Days Of Mercy,\" released in 2008, was directed by the Thai filmmaker Pen-ek Ratanaruang, who is from Thailand. In contrast, \"The True Nature of Bernadette,\" released in 2018, was directed by Jean-Pierre Gland, a French director. Therefore, the directors of these films are from different countries, specifically Thailand and France, respectively.</answer7\n",
      "===========================================================================\n",
      "\n",
      "\n",
      "<answer8>\\boxed{Arth, which was released in 1982, is directed by Amithabh Bachchan, while Stronghold Of Toughs, released in 2013, was directed by Amol Rathod. Amithabh Bachchan, born on October 11, 1942, is older than Amol Rathod, who was born on May 23, 1968. Thus, the director of the film \"Arth\" is older than the director of \"Stronghold Of Toughs.\"</answer8>\n",
      "<answer8>\\boxed{Arth, which was released in 1982, is directed by Amithabh Bachchan, while Stronghold Of Toughs, released in 2013, was directed by Amol Rathod. Amithabh Bachchan, born on October 11, 1942, is older than Amol Rathod, who was born on May 23, 1968. Thus, the director of the film \"Arth\" is older than the director of \"Stronghold Of Toughs.\"</answer8\n",
      "===========================================================================\n",
      "\n",
      "\n",
      "<answer9>\\boxed{Thomas Goppel is a German film and television actor, and the question seems to ask for specific biography-related information about biological connections within his family that isn't widely publicly known. Unfortunately, without access to personal family documents or a biographical source specifying the date of death of Thomas Goppel's father, I can't provide that information from publicly available sources. Usually, such specific personal details about someone's family are not publicly listed due to privacy concerns. If Thomas Goppel's father's date of death is part of publicly available information, it would be found in his family's public records, if any are shared, or through his biography if such details are included in his professional profile or obituaries. Without this information, I can't provide a date.</answer9>\n",
      "<answer9>\\boxed{Thomas Goppel is a German film and television actor, and the question seems to ask for specific biography-related information about biological connections within his family that isn't widely publicly known. Unfortunately, without access to personal family documents or a biographical source specifying the date of death of Thomas Goppel's father, I can't provide that information from publicly available sources. Usually, such specific personal details about someone's family are not publicly listed due to privacy concerns. If Thomas Goppel's father's date of death is part of publicly available information, it would be found in his family's public records, if any are shared, or through his biography if such details are included in his professional profile or obituaries. Without this information, I can't provide a date.</answer9\n",
      "===========================================================================\n",
      "\n",
      "\n",
      "<answer10>\\boxed{The composer of the song \"From This Moment On\" by Cole Porter was Cole Porter himself. Cole Porter was an American composer and lyricist who was known for his sophisticated, sometimes scabrous, musicals and songs of great popularity and lasting impact. Born on June 9, 1891, in Peru, Indiana, the American nationality of Cole Porter aligns with the songwriting and music composition industry in the United States during the early to mid-20th century. His career laid the foundation for musical theatre and contributed significantly to the development of American musical comedy.</answer10>\n",
      "<answer10>\\boxed{The composer of the song \"From This Moment On\" by Cole Porter was Cole Porter himself. Cole Porter was an American composer and lyricist who was known for his sophisticated, sometimes scabrous, musicals and songs of great popularity and lasting impact. Born on June 9, 1891, in Peru, Indiana, the American nationality of Cole Porter aligns with the songwriting and music composition industry in the United States during the early to mid-20th century. His career laid the foundation for musical theatre and contributed significantly to the development of American musical comedy.</answer10\n",
      "===========================================================================\n",
      "\n",
      "\n",
      "<answer11>\\boxed{No, the directors of the films \"Mayalokam\" and \"Intent To Kill\" do not share the same nationality. \"Mayalokam\" is an Indian Tamil-language film from 2014, directed by V. K. Kurup. \"Intent To Kill\" is a French film from 1979, directed by Georges Lautner. V. K. Kurup, being Indian, and Georges Lautner, being French, are from different countries—India and France, respectively. This means that neither the directors nor the films necessarily share any commonality regarding nationality, apart from both being directed by adult individuals, which is true for all directors.</answer11>\n",
      "<answer11>\\boxed{No, the directors of the films \"Mayalokam\" and \"Intent To Kill\" do not share the same nationality. \"Mayalokam\" is an Indian Tamil-language film from 2014, directed by V. K. Kurup. \"Intent To Kill\" is a French film from 1979, directed by Georges Lautner. V. K. Kurup, being Indian, and Georges Lautner, being French, are from different countries—India and France, respectively. This means that neither the directors nor the films necessarily share any commonality regarding nationality, apart from both being directed by adult individuals, which is true for all directors.</answer11\n",
      "===========================================================================\n",
      "\n",
      "\n",
      "<answer12>\\boxed{The director of the film \"The Gun Hawk,\" John Strickler, passed away on November 19, 2006. He died at the Medical Center of the Americas, which is located in Hialeah, Florida, United States. John Strickler's passing occurred at this facility, which suggests that his death occurred at a hospital or a medical center, which is often the place where individuals receive care before death, rather than it being his definitive location of death. The death location usually refers to where an individual passes away, often their residence, a hospital, or another facility under health care provider jurisdiction. Death occurred might have been at the hospital, but the question might be seeking main location, which in this case is the Medical Center of the Americas, a facility in Florida, USA.</answer12>\n",
      "<answer12>\\boxed{The director of the film \"The Gun Hawk,\" John Strickler, passed away on November 19, 2006. He died at the Medical Center of the Americas, which is located in Hialeah, Florida, United States. John Strickler's passing occurred at this facility, which suggests that his death occurred at a hospital or a medical center, which is often the place where individuals receive care before death, rather than it being his definitive location of death. The death location usually refers to where an individual passes away, often their residence, a hospital, or another facility under health care provider jurisdiction. Death occurred might have been at the hospital, but the question might be seeking main location, which in this case is the Medical Center of the Americas, a facility in Florida, USA.</answer12\n",
      "===========================================================================\n",
      "\n",
      "\n",
      "<answer13>\\boxed{The director of the film \"Doc Savage: The Man of Bronze\" was Richard Fleischer, who passed away on February 10, 1985. Richard Fleischer's death occurred in Casa Grande, Arizona, which is part of the United States of America. His death at this location indicates that in the context of \"where did he die,\" the answer is Casa Grande, Arizona. However, the question is formatted in a futuristic way, implying a time frame or asking about a future date, which is infeasible as the information provided is historical, documenting a past event. If intended to inquire about the director's death in a current or future context, the location has been confirmed to be Casa Grande, Arizona, U.S.</answer13>\n",
      "<answer13>\\boxed{The director of the film \"Doc Savage: The Man of Bronze\" was Richard Fleischer, who passed away on February 10, 1985. Richard Fleischer's death occurred in Casa Grande, Arizona, which is part of the United States of America. His death at this location indicates that in the context of \"where did he die,\" the answer is Casa Grande, Arizona. However, the question is formatted in a futuristic way, implying a time frame or asking about a future date, which is infeasible as the information provided is historical, documenting a past event. If intended to inquire about the director's death in a current or future context, the location has been confirmed to be Casa Grande, Arizona, U.S.</answer13\n",
      "===========================================================================\n",
      "\n",
      "\n",
      "<answer14>\\boxed{The director of the film \"A Very Special Favor\" is Robert Mandel. Robert Mandel is an American filmmaker, producer, and screenwriter. Given that he was born and worked primarily in the United States, his nationality can be classified as American. His career is rooted in filmmaking within the American context, which includes directing shorts, features, and television, with notable works including \"A Very Special Favor,\" a serial killer thriller film released in 2017. His professional endeavors and contribution to American cinema contribute to his classification as American.</answer14>\n",
      "<answer14>\\boxed{The director of the film \"A Very Special Favor\" is Robert Mandel. Robert Mandel is an American filmmaker, producer, and screenwriter. Given that he was born and worked primarily in the United States, his nationality can be classified as American. His career is rooted in filmmaking within the American context, which includes directing shorts, features, and television, with notable works including \"A Very Special Favor,\" a serial killer thriller film released in 2017. His professional endeavors and contribution to American cinema contribute to his classification as American.</answer14\n",
      "===========================================================================\n",
      "\n",
      "\n",
      "<answer15>\\boxed{No, the directors of the films \"Yor, The Hunter From The Future\" and \"Circus Fandango\" are not from the same country. \"Yor, The Hunter From The Future\" is a 1979 Japanese film, directed by Daisuke Itami. Itälamäki was a Finnish filmmaker known for his contributions to Finnish cinema, with notable work as the director of \"Circus Fandango,\" a Finnish film released in 1986. While both directors have made films with themes and styles that diverge significantly from mainstream cinema, they are associated with different national cinematic traditions due to their respective national origins—Japanese for Itami and Finnish for Itälamäki. Therefore, they do not share a common nationality that connects their respective directorial endeavors.</answer15>\n",
      "<answer15>\\boxed{No, the directors of the films \"Yor, The Hunter From The Future\" and \"Circus Fandango\" are not from the same country. \"Yor, The Hunter From The Future\" is a 1979 Japanese film, directed by Daisuke Itami. Itälamäki was a Finnish filmmaker known for his contributions to Finnish cinema, with notable work as the director of \"Circus Fandango,\" a Finnish film released in 1986. While both directors have made films with themes and styles that diverge significantly from mainstream cinema, they are associated with different national cinematic traditions due to their respective national origins—Japanese for Itami and Finnish for Itälamäki. Therefore, they do not share a common nationality that connects their respective directorial endeavors.</answer15\n",
      "===========================================================================\n"
     ]
    }
   ],
   "source": [
    "for span_index in range(len(all_spans)):\n",
    "    print(decoded_resp[all_spans[span_index][0]:all_spans[span_index][1]])\n",
    "    test_mask, _ = convert_string_span_to_token_span([all_spans[span_index]], decoded_resp, token_resp, tokenizer)\n",
    "    test_mask_indices = torch.where(torch.tensor(test_mask))[0]\n",
    "    test_token_spans = test_mask_indices.min().item(), test_mask_indices.max().item() + 1\n",
    "    # assert test_token_spans[1] - test_token_spans[0] == test_mask_indices.shape[0]\n",
    "\n",
    "    print(tokenizer.decode(token_resp[test_token_spans[0]:test_token_spans[1]]))\n",
    "    print(\"===\" * 25 )"
   ]
  },
  {
   "cell_type": "code",
   "execution_count": null,
   "id": "865f3a19",
   "metadata": {},
   "outputs": [
    {
     "data": {
      "text/plain": [
       "\"\\n<answer1>\\x08oxed{Phaungkaza Maung Maung's paternal grandfather is King Takayoung of Burma. King Takayoung and Aung San are Phaungkaza Maung Maung's paternal grandparents, with Aung San being his father's (U Nu) father, who later became an important Burmese political leader and is widely regarded as the Father of Burma following the country's independence in 1948.}</\""
      ]
     },
     "execution_count": 90,
     "metadata": {},
     "output_type": "execute_result"
    }
   ],
   "source": []
  },
  {
   "cell_type": "code",
   "execution_count": 84,
   "id": "95a53724",
   "metadata": {},
   "outputs": [
    {
     "data": {
      "text/plain": [
       "97"
      ]
     },
     "execution_count": 84,
     "metadata": {},
     "output_type": "execute_result"
    }
   ],
   "source": [
    "test_mask_indices.shape[0]"
   ]
  },
  {
   "cell_type": "code",
   "execution_count": null,
   "id": "70f4f457",
   "metadata": {},
   "outputs": [],
   "source": [
    "from typing import Dict, Any, List, Tuple\n",
    "\n",
    "def convert_string_spans_to_token_spans(\n",
    "    tokenized_input: Dict[str, Any],\n",
    "    message_string_spans: List[Tuple[int, int]],\n",
    "    target_message_span_index: int\n",
    ") -> int:\n",
    "    \"\"\"\n",
    "    Convert a list of string spans to a list of token indices.\n",
    "    \"\"\"\n",
    "\n",
    "    # first, we need to obtain the local offset_mapping given the target_message_span_index\n",
    "    message_start_token_index, message_end_token_index = tokenized_input[\"message_token_spans\"][\n",
    "        target_message_span_index\n",
    "    ]\n",
    "    message_start_string_index = tokenized_input[\"offset_mapping\"][message_start_token_index][0]\n",
    "\n",
    "    # Then we need to obtain the global message string spans and obtain the token spans: \n",
    "    # The input message_string_spans is a list of tuples, each tuple is a local string span in the original document\n",
    "\n",
    "    output_token_spans = []\n",
    "    for local_string_start, local_string_end in message_string_spans:\n",
    "        global_string_start = local_string_start + message_start_string_index\n",
    "        global_string_end = local_string_end + message_start_string_index\n",
    "        \n",
    "        current_token_start, current_token_end = None, None\n",
    "\n",
    "        for token_index, (token_string_start, token_string_end) in enumerate(tokenized_input[\"offset_mapping\"][message_start_token_index:message_end_token_index], start=message_start_token_index):\n",
    "            \n",
    "            if token_string_start >= global_string_start:\n",
    "                if current_token_start is None:\n",
    "                    current_token_start = token_index\n",
    "                current_token_end = token_index + 1\n",
    "\n",
    "            if token_string_end > global_string_end:\n",
    "                break\n",
    "        \n",
    "        if current_token_start is not None and current_token_end is not None:\n",
    "            output_token_spans.append((current_token_start, current_token_end))\n",
    "\n",
    "    return output_token_spans\n",
    "\n",
    "\n",
    "def convert_string_span_to_token_span(effective_spans, decoded_resp, token_resp, tokenizer):\n",
    "    \"\"\"\n",
    "    Convert character spans to token spans and create a mask for training.\n",
    "    Uses the span conversion logic from open_instruct/search_rewards/span_convertion.py\n",
    "    \n",
    "    Args:\n",
    "        effective_spans: List of tuples (start_char, end_char) in decoded response\n",
    "        decoded_resp: Decoded string response\n",
    "        token_resp: Tokenized response (list of token IDs)\n",
    "        tokenizer: Tokenizer used to decode the responses\n",
    "    \n",
    "    Returns:\n",
    "        Tuple of (mask, span_mapping_stats) where:\n",
    "        - mask: List of integers where 1 means the token should be trained on, 0 means masked\n",
    "        - span_mapping_stats: Dict with mapping quality statistics\n",
    "    \"\"\"\n",
    "\n",
    "    \n",
    "    logger = logging.getLogger(__name__)\n",
    "    \n",
    "    # Initialize statistics tracking\n",
    "    span_stats = {\n",
    "        \"total_spans\": len(effective_spans) if effective_spans else 0,\n",
    "        \"valid_start_mappings\": 0,\n",
    "        \"valid_end_mappings\": 0,\n",
    "    }\n",
    "    \n",
    "    if not effective_spans or len(token_resp) == 0:\n",
    "        # If no effective spans or no tokens, mask everything except last EOS\n",
    "        mask = [0] * len(token_resp)\n",
    "        if len(token_resp) > 0 and token_resp[-1] == tokenizer.eos_token_id:\n",
    "            mask[-1] = 1\n",
    "        return mask, span_stats\n",
    "    \n",
    "    # Use the span conversion utilities directly without creating dummy messages\n",
    "    # We'll tokenize the decoded response directly and get offset mappings\n",
    "    tokenized_resp = tokenizer(\n",
    "        decoded_resp,\n",
    "        return_tensors=\"pt\",\n",
    "        return_offsets_mapping=True,\n",
    "        add_special_tokens=False,\n",
    "    )\n",
    "    \n",
    "    # Check for empty tokenization\n",
    "    if len(tokenized_resp[\"input_ids\"][0]) == 0:\n",
    "        logger.warning(f\"Empty tokenization for decoded_resp: '{decoded_resp[:100]}...'\")\n",
    "        # Return all-masked except EOS\n",
    "        mask = [0] * len(token_resp)\n",
    "        if len(token_resp) > 0 and token_resp[-1] == tokenizer.eos_token_id:\n",
    "            mask[-1] = 1\n",
    "        return mask, span_stats\n",
    "    \n",
    "    # Create a simple tokenized_input structure that the conversion function expects\n",
    "    tokenized_input = {\n",
    "        \"offset_mapping\": tokenized_resp[\"offset_mapping\"][0],  # Remove batch dimension\n",
    "        \"message_token_spans\": {0: [0, len(tokenized_resp[\"input_ids\"][0])]},  # Single message spanning all tokens\n",
    "    }\n",
    "    \n",
    "    # Convert string spans to token spans using the utility function\n",
    "    token_spans = convert_string_spans_to_token_spans(\n",
    "        tokenized_input,\n",
    "        effective_spans,\n",
    "        target_message_span_index=0\n",
    "    )\n",
    "    \n",
    "    # Initialize mask - everything masked by default\n",
    "    mask = [0] * len(token_resp)\n",
    "    \n",
    "    # Update statistics and create mask\n",
    "    for span_idx, (token_start, token_end) in enumerate(token_spans):\n",
    "        span_stats[\"valid_start_mappings\"] += 1\n",
    "        span_stats[\"valid_end_mappings\"] += 1\n",
    "        \n",
    "        # Clamp to valid token range for our response\n",
    "        token_start = max(0, min(token_start, len(token_resp)))\n",
    "        token_end = max(token_start, min(token_end, len(token_resp)))\n",
    "        \n",
    "        # Unmask tokens in this span\n",
    "        for token_idx in range(token_start, token_end):\n",
    "            if token_idx < len(mask):\n",
    "                mask[token_idx] = 1\n",
    "    \n",
    "    # Always keep the last EOS token unmasked if it exists\n",
    "    if len(token_resp) > 0 and token_resp[-1] == tokenizer.eos_token_id:\n",
    "        mask[-1] = 1\n",
    "    \n",
    "    return mask, span_stats"
   ]
  },
  {
   "cell_type": "code",
   "execution_count": 114,
   "id": "91217047",
   "metadata": {},
   "outputs": [
    {
     "name": "stdout",
     "output_type": "stream",
     "text": [
      "FinegrainedScore(score=0.0, effective_spans=[(0, 376)], reward_group_id=0, query_idx=None, response_idx=None, reward_group_name='question_0', advantage=None)\n",
      "Number of unmasked tokens: 98\n",
      "Effective spans: [(0, 376)]\n",
      "Selected tokens shape: torch.Size([98])\n",
      "Selected tokens: tensor([   198,     27,   9217,     16,   8449,  79075,     90,   3357,     64,\n",
      "          2185, 133821,  11331,   2185,  11331,   2185,    594,  92267,  37850,\n",
      "           374,   6210,  33290,    352,    283,    968,    315,  91571,     13,\n",
      "          6210,  33290,    352,    283,    968,    323,    362,   2185,   5836,\n",
      "           525,   2350,     64,   2185, 133821,  11331,   2185,  11331,   2185,\n",
      "           594,  92267,  55335,     11,    448,    362,   2185,   5836,   1660,\n",
      "           806,   6981,    594,    320,     52,  32324,      8,   6981,     11,\n",
      "           879,   2937,   6116,    458,   2989,  12369,     76,   2367,   4948,\n",
      "          7653,    323,    374,  13570,  26361,    438,    279,  20322,    315,\n",
      "         91571,   2701,    279,   3146,    594,  23665,    304,    220,     16,\n",
      "            24,     19,     23,     13,   5361,   9217,     16,   1339])\n",
      "Decoded selected tokens:\n",
      "torch.Size([98])\n",
      "2022\n",
      "torch.Size([2022])\n",
      "True\n"
     ]
    }
   ],
   "source": [
    "finegrained_score = reward_results[\"finegrained_scores\"][0]\n",
    "print(finegrained_score)\n",
    "spans = finegrained_score.effective_spans\n",
    "mask, span_stats = convert_string_span_to_token_span(\n",
    "    effective_spans=spans,\n",
    "    decoded_resp=decoded_resp,\n",
    "    token_resp=token_resp,\n",
    "    tokenizer=tokenizer\n",
    ")\n",
    "print(f\"Number of unmasked tokens: {sum(mask)}\")\n",
    "print(f\"Effective spans: {spans}\")\n",
    "\n",
    "# Convert mask to tensor and select tokens based on mask\n",
    "import torch\n",
    "mask_tensor = torch.tensor(mask, dtype=torch.bool)\n",
    "selected_tokens = token_resp[mask_tensor]\n",
    "print(f\"Selected tokens shape: {selected_tokens.shape}\")\n",
    "print(f\"Selected tokens: {selected_tokens}\")\n",
    "print(f\"Decoded selected tokens:\")\n",
    "print(selected_tokens.shape)\n",
    "print(len(mask))\n",
    "print(token_resp.shape)\n",
    "print(tokenizer.decode(token_resp) == decoded_resp)"
   ]
  },
  {
   "cell_type": "code",
   "execution_count": 115,
   "id": "d998bcdb",
   "metadata": {},
   "outputs": [
    {
     "data": {
      "text/plain": [
       "\"\\n<answer1>\\\\boxed{Phaungkaza Maung Maung's paternal grandfather is King Takayoung of Burma. King Takayoung and Aung San are Phaungkaza Maung Maung's paternal grandparents, with Aung San being his father's (U Nu) father, who later became an important Burmese political leader and is widely regarded as the Father of Burma following the country's independence in 1948.}</answer1>\\n\\n\""
      ]
     },
     "execution_count": 115,
     "metadata": {},
     "output_type": "execute_result"
    }
   ],
   "source": [
    "\n",
    "tokenizer.decode(selected_tokens)\n"
   ]
  },
  {
   "cell_type": "code",
   "execution_count": 116,
   "id": "0da628bd",
   "metadata": {},
   "outputs": [
    {
     "data": {
      "text/plain": [
       "\"\\n<answer1>\\\\boxed{Phaungkaza Maung Maung's paternal grandfather is King Takayoung of Burma. King Takayoung and Aung San are Phaungkaza Maung Maung's paternal grandparents, with Aung San being his father's (U Nu) father, who later became an important Burmese political leader and is widely regarded as the Father of Burma following the country's independence in 1948.}</answer1>\""
      ]
     },
     "execution_count": 116,
     "metadata": {},
     "output_type": "execute_result"
    }
   ],
   "source": [
    "decoded_resp[spans[0][0]:spans[0][1]]"
   ]
  },
  {
   "cell_type": "code",
   "execution_count": null,
   "id": "301e2c65",
   "metadata": {},
   "outputs": [],
   "source": []
  }
 ],
 "metadata": {
  "kernelspec": {
   "display_name": "open-instruct",
   "language": "python",
   "name": "python3"
  },
  "language_info": {
   "codemirror_mode": {
    "name": "ipython",
    "version": 3
   },
   "file_extension": ".py",
   "mimetype": "text/x-python",
   "name": "python",
   "nbconvert_exporter": "python",
   "pygments_lexer": "ipython3",
   "version": "3.12.11"
  }
 },
 "nbformat": 4,
 "nbformat_minor": 5
}
